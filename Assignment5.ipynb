{
 "cells": [
  {
   "cell_type": "code",
   "execution_count": null,
   "id": "1421a825",
   "metadata": {},
   "outputs": [],
   "source": [
    "#Question 1: What is the northernmost airport in the United States?"
   ]
  },
  {
   "cell_type": "code",
   "execution_count": null,
   "id": "464929dd",
   "metadata": {},
   "outputs": [],
   "source": [
    "import pandas as pd\n",
    "\n",
    "data = 'https://raw.githubusercontent.com/tidyverse/nycflights13/main/data-raw/airports.csv'\n",
    "data = pd.read_csv('airports.csv')\n",
    "\n",
    "# Sort airport data based on latitude to display top 5 northernmost airports in North America\n",
    "data.sort_values(['lat'], ascending = [False]).head(5)"
   ]
  },
  {
   "cell_type": "code",
   "execution_count": null,
   "id": "65cec13d",
   "metadata": {},
   "outputs": [],
   "source": [
    "faa\tname\tlat\tlon\talt\ttz\tdst\n",
    "393\tEEN\tDillant Hopkins Airport\t72.270833\t42.898333\t149\t-5\tA\n",
    "217\tBRW\tWiley Post Will Rogers Mem\t71.285446\t-156.766003\t44\t-9\tA\n",
    "98\tAIN\tWainwright Airport\t70.638056\t-159.994722\t41\t-9\tA\n",
    "674\tK03\tWainwright As\t70.613378\t-159.860350\t35\t-9\tA\n",
    "140\tATK\tAtqasuk Edward Burnell Sr Memorial Airport\t70.467300\t-157.436000\t96\t-9\tA"
   ]
  },
  {
   "cell_type": "code",
   "execution_count": null,
   "id": "799e8b7f",
   "metadata": {},
   "outputs": [],
   "source": [
    "#Answer1: The northernmost airport in United States according to this dataframe is EEN Dillant Hopkins Airport. However, research demonstrates that this information is incorrect. The lattitude and longitute are transposed which makes BRW Wiley Post Will Rogers Memorial Airport the northernmost airport in the United States."
   ]
  },
  {
   "cell_type": "code",
   "execution_count": null,
   "id": "6f5251c2",
   "metadata": {},
   "outputs": [],
   "source": [
    "#Question 2: What is the easternmost airport in the United States?"
   ]
  },
  {
   "cell_type": "code",
   "execution_count": null,
   "id": "206a2ecf",
   "metadata": {},
   "outputs": [],
   "source": [
    "data.sort_values(['lon'], ascending = [False]).head(5)"
   ]
  },
  {
   "cell_type": "code",
   "execution_count": null,
   "id": "d78833f6",
   "metadata": {},
   "outputs": [],
   "source": [
    "\tfaa\tname\tlat\tlon\talt\ttz\tdst\n",
    "1237\tSYA\tEareckson As\t52.712275\t174.113620\t98\t-10\tA\n",
    "897\tMYF\tMontgomery Field\t32.475900\t117.759000\t17\t-8\tA\n",
    "372\tDVT\tDeer Valley Municipal Airport\t33.411700\t112.457000\t1478\t-7\tA\n",
    "393\tEEN\tDillant Hopkins Airport\t72.270833\t42.898333\t149\t-5\tA\n",
    "419\tEPM\tEastport Municipal Airport\t44.910111\t-67.012694\t45\t-5\tA"
   ]
  },
  {
   "cell_type": "code",
   "execution_count": null,
   "id": "893e21c4",
   "metadata": {},
   "outputs": [],
   "source": [
    "#Answer2: The easternmost airport in the United States is EPM Eastport Municipal Airport. The information in this dataframe has been confirmed on Google.com. The first 4 are not in the eastern timezone."
   ]
  },
  {
   "cell_type": "code",
   "execution_count": null,
   "id": "5420e35b",
   "metadata": {},
   "outputs": [],
   "source": [
    "#Question3: On February 12 2013, which New York airport had the windiest weather?"
   ]
  },
  {
   "cell_type": "code",
   "execution_count": null,
   "id": "608d8e2b",
   "metadata": {},
   "outputs": [],
   "source": [
    "url_weather = 'https://raw.githubusercontent.com/tidyverse/nycflights13/6c38793cddb3ebf4eb8924c9ae9ee4922970b691/data-raw/weather.csv'\n",
    "weather = pd.read_csv('weather.csv')\n",
    "weather[weather.origin.isin(['JFK', 'LGA'])  & (weather.month == 2) & (weather.day == 12) & \n",
    "        (weather.year == 2013)].sort_values(['wind_speed'], ascending = [False]).head(10)\n",
    "weather"
   ]
  },
  {
   "cell_type": "code",
   "execution_count": null,
   "id": "10a79f28",
   "metadata": {},
   "outputs": [],
   "source": [
    "\torigin\tyear\tmonth\tday\thour\ttemp\tdewp\thumid\twind_dir\twind_speed\twind_gust\tprecip\tpressure\tvisib\n",
    "0\tEWR\t2013\t1.0\t1.0\t0.0\t37.04\t21.92\t53.97\t230.0\t10.35702\t11.918651\t0.0\t1013.9\t10.0\n",
    "1\tEWR\t2013\t1.0\t1.0\t1.0\t37.04\t21.92\t53.97\t230.0\t13.80936\t15.891535\t0.0\t1013.0\t10.0\n",
    "2\tEWR\t2013\t1.0\t1.0\t2.0\t37.94\t21.92\t52.09\t230.0\t12.65858\t14.567241\t0.0\t1012.6\t10.0\n",
    "3\tEWR\t2013\t1.0\t1.0\t3.0\t37.94\t23.00\t54.51\t230.0\t13.80936\t15.891535\t0.0\t1012.7\t10.0\n",
    "4\tEWR\t2013\t1.0\t1.0\t4.0\t37.94\t24.08\t57.04\t240.0\t14.96014\t17.215830\t0.0\t1012.8\t10.0\n",
    "...\t...\t...\t...\t...\t...\t...\t...\t...\t...\t...\t...\t...\t...\t...\n",
    "8714\tJFK\t2013\t9.0\t2.0\t20.0\t75.20\t73.40\t94.14\t200.0\t4.60312\t5.297178\t0.0\tNaN\t4.0\n",
    "8715\tJFK\t2013\t10.0\t23.0\t10.0\t48.92\t39.02\t68.51\t60.0\t4.60312\t5.297178\t0.0\t1008.1\t10.0\n",
    "8716\tJFK\t2013\t10.0\t23.0\t11.0\t48.92\t39.02\t68.51\t40.0\t4.60312\t5.297178\t0.0\t1008.5\t10.0\n",
    "8717\tJFK\t2013\t12.0\t17.0\t5.0\t26.96\t10.94\t50.34\t40.0\t4.60312\t5.297178\t0.0\t1023.9\t10.0\n",
    "8718\tLGA\t2013\t8.0\t22.0\t22.0\t75.92\t66.92\t73.68\t210.0\t8.05546\t9.270062\t0.0\t1011.9\t10.0\n",
    "\n",
    "8719 rows × 14 columns"
   ]
  },
  {
   "cell_type": "code",
   "execution_count": null,
   "id": "26a82e08",
   "metadata": {},
   "outputs": [],
   "source": [
    "#Answer3: LGA LaGuardia Airport had the windiest weather with wind speeds of 23mph and wind gusts of 31mph."
   ]
  }
 ],
 "metadata": {
  "kernelspec": {
   "display_name": "Python 3 (ipykernel)",
   "language": "python",
   "name": "python3"
  },
  "language_info": {
   "codemirror_mode": {
    "name": "ipython",
    "version": 3
   },
   "file_extension": ".py",
   "mimetype": "text/x-python",
   "name": "python",
   "nbconvert_exporter": "python",
   "pygments_lexer": "ipython3",
   "version": "3.9.7"
  }
 },
 "nbformat": 4,
 "nbformat_minor": 5
}
